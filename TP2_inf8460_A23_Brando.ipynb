{
 "cells": [
  {
   "cell_type": "markdown",
   "id": "17388a04-47d8-4901-8109-d848eae00287",
   "metadata": {
    "colab_type": "text",
    "collapsed": false,
    "id": "view-in-github"
   },
   "source": [
    "<a href=\"https://colab.research.google.com/github/marcomudenge/INF8460_TP2/blob/main/TP2_inf8460_A23.ipynb\" target=\"_parent\"><img src=\"https://colab.research.google.com/assets/colab-badge.svg\" alt=\"Open In Colab\"/></a>"
   ]
  },
  {
   "cell_type": "markdown",
   "id": "94582dbd-1f6f-480a-92c7-ab38bfb42bdc",
   "metadata": {
    "collapsed": false,
    "id": "afz5ucwvRf_k"
   },
   "source": [
    "# INF8460: Traitement automatique de la langue naturelle\n",
    "\n",
    "### TP2: Autocomplétion et génération de phrases avec des modèles de langue n-grammes"
   ]
  },
  {
   "cell_type": "markdown",
   "id": "d5dc8be4-eab5-437d-b014-c9b3cacb428b",
   "metadata": {
    "collapsed": false,
    "id": "t-x0LjjYRf_n"
   },
   "source": [
    "## Identification de l'équipe:\n",
    "\n",
    "### Groupe de laboratoire:\n",
    "\n",
    "### Equipe numéro :\n",
    "\n",
    "### Membres:\n",
    "\n",
    "- membre 1 (% de contribution, nature de la contribution)\n",
    "- membre 2 (% de contribution, nature de la contribution)\n",
    "- membre 3 (% de contribution, nature de la contribution)\n",
    "\n",
    "* nature de la contribution: Décrivez brièvement ce qui a été fait par chaque membre de l’équipe. Tous les membres sont censés contribuer au développement. Bien que chaque membre puisse effectuer différentes tâches, vous devez vous efforcer d’obtenir une répartition égale du travail."
   ]
  },
  {
   "cell_type": "markdown",
   "id": "357e65a0-7436-4eed-9f6b-10c51c6e1ee7",
   "metadata": {
    "collapsed": false,
    "id": "ZOwVeGW2Rf_o"
   },
   "source": [
    "## Description:\n",
    "\n",
    "Ce deuxième travail pratique sera dédié à l'utilisation des n-grammes en traitement du langage naturel (NLP). Les n-grammes sont des séquences de n mots consécutifs dans un texte, et ils sont présent dans de nombreuses applications du NLP.\n",
    "\n",
    "Au cours de ce laboratoire, nous allons explorer comment les n-grammes sont utilisés pour des tâches telles que la prédiction de mots, l'autocomplétion et la génération de texte. Voici quelques exemples concrets de leur utilisation :\n",
    "\n",
    "Prédiction de Mots : Les n-grammes sont utilisés pour prédire le mot suivant étant donné le contexte précédent. Par exemple, dans la phrase \"Je pense donc je ____\", un modèle de bigramme pourrait suggérer \"suis\" comme mot suivant, basé sur des observations antérieures.\n",
    "\n",
    "Autocomplétion : Les moteurs de recherche utilisent les n-grammes pour proposer des suggestions de recherche lorsque vous commencez à taper une phrase. Ils se basent sur les préfixes du mot courant et sur les phrases écrites par l'utilisateur.\n",
    "\n",
    "Génération de Texte : Les n-grammes peuvent être utilisés pour générer automatiquement du texte. Ils aident un modèle à prédire les mots suivants en fonction des probabilités des mots pouvant être générés selon le contexte.\n",
    "\n",
    "Vous étudierez aussi une manière d'évaluer la qualité des modèles de langage génératifs en utilisant la perplexité. La perplexité est une métrique qui évalue la confiance avec laquelle un modèle est capable de prédire une séquence de mots dans un texte. Plus la perplexité est faible, plus le modèle est capable de prédire avec précision. Autrement dit, la perplexité est une mesure de la \"surprise\" d'un modèle lorsqu'il est exposé à un nouvel ensemble de mots. Nous utiliserons cette métrique pour évaluer nos modèles basés sur les n-grammes.\n",
    "\n",
    "\n",
    "**NOTE: seulement les librairies standards de python (et numpy) sont permises ainsi que celles déjà importées le notebook**"
   ]
  },
  {
   "cell_type": "markdown",
   "id": "fd7d1aa9-f959-4908-a6ba-8c139a932da8",
   "metadata": {
    "collapsed": false,
    "id": "cEDULDRiRf_o"
   },
   "source": [
    "<a name='1'></a>\n",
    "## 1.  Chargement et pré-traitement des données (12 points)\n",
    "\n",
    "<a name='1.1'></a>\n",
    "### 1.1 Chargement des données (1 point)\n",
    "\n",
    "Les données que vous allez utiliser dans ce travail sont contenues dans le fichier [trump.txt](./trump.txt)\n",
    "\n",
    "Lisez le contenu de ce fichier et stockez-le dans une variable data.\n",
    "\n",
    "Affichez ensuite les 300 premiers caractères\n",
    "\n"
   ]
  },
  {
   "cell_type": "code",
   "execution_count": 1,
   "id": "65de4c53-56a0-4df9-ac27-a42b92ae84c8",
   "metadata": {
    "collapsed": false,
    "id": "l8zdLKKARf_p",
    "outputId": "bf0a4284-42e1-4e1f-995f-09837e90a4d7"
   },
   "outputs": [
    {
     "name": "stdout",
     "output_type": "stream",
     "text": [
      "Thank you very much.\n",
      "We had an amazing convention.\n",
      "That was one of the best.\n",
      "I think it was one of the best ever.\n",
      "In terms -- in terms of enthusiasm, in terms of I think what it represents, getting our word out.\n",
      "Ivanka was incredible last night.\n",
      "She did an incredible job.\n",
      "And so many of the speakers\n"
     ]
    }
   ],
   "source": [
    "\n",
    "filename = \"trump.txt\"\n",
    "with open(filename, encoding=\"utf8\") as f:\n",
    "    data = f.read()\n",
    "\n",
    "print(data[:300])"
   ]
  },
  {
   "cell_type": "markdown",
   "id": "6d783b3b-f322-4af8-b5f7-a0a64dc70305",
   "metadata": {
    "collapsed": false,
    "id": "veFjXc6GRf_q"
   },
   "source": [
    "<a name='1.2'></a>\n",
    "### 1.2  Segmentation (2 points)\n",
    "\n",
    "Pré-traitez les données en suivant les étapes suivantes:\n",
    "\n",
    "1. Enlever les majuscules.\n",
    "2. Remplacer les \"\\n\" par des espaces\n",
    "3. Séparer les données en phrases en utilisant les délimiteurs suivants `.`, `?` et `!` comme séparateur.\n",
    "4. Enlever les signes de ponctuation (Attention de garder les espaces).\n",
    "5. Enlever les phrases vides.\n",
    "6. Segmenter les phrases avec la fonction nltk.word_tokenize()\n",
    "\n",
    "Utilisez ensuite votre fonction pour prétraiter le jeu de données."
   ]
  },
  {
   "cell_type": "code",
   "execution_count": 2,
   "id": "76018b3f-9d6d-4f9e-9c9b-a17a4e502405",
   "metadata": {
    "collapsed": false,
    "id": "jU8f0VY5Rf_q"
   },
   "outputs": [],
   "source": [
    "import nltk\n",
    "import re\n",
    "\n",
    "def preprocess(data):\n",
    "\n",
    "    # Remove capital letters\n",
    "    data = data.lower()\n",
    "\n",
    "    # Remove line breaks\n",
    "    data = data.replace('\\n', ' ')\n",
    "\n",
    "    # Split into sentences using ., !, ? as delimiters\n",
    "    data = re.split('[.!?]', data)\n",
    "\n",
    "    # Remove empty sentences\n",
    "    data = [sentence for sentence in data if sentence != '']\n",
    "\n",
    "    # Tokenize each sentence into words\n",
    "    data = [nltk.word_tokenize(sentence) for sentence in data]\n",
    "\n",
    "    return data"
   ]
  },
  {
   "cell_type": "code",
   "execution_count": 3,
   "id": "a704a599-d5aa-46b9-a75b-19f12b553e80",
   "metadata": {
    "collapsed": false,
    "id": "l6HaSkcYRf_q",
    "outputId": "c4907351-fac6-499e-b114-e357044b59f4"
   },
   "outputs": [
    {
     "data": {
      "text/plain": [
       "[['cats', 'are', 'independent'], ['dogs', 'are', 'faithful']]"
      ]
     },
     "execution_count": 3,
     "metadata": {},
     "output_type": "execute_result"
    }
   ],
   "source": [
    "# test\n",
    "x = \"Cats are independent.\\nDogs are faithful.\"\n",
    "preprocess(x)"
   ]
  },
  {
   "cell_type": "markdown",
   "id": "52637c00-a1e3-4fc8-9ea9-66375e71a173",
   "metadata": {
    "collapsed": false,
    "id": "ZRylRA2VRf_r"
   },
   "source": [
    "##### Sortie attendue\n",
    "\n",
    "```CPP\n",
    "[['cats', 'are', 'independent'], ['dogs', 'are', 'faithful']]\n",
    "```"
   ]
  },
  {
   "cell_type": "markdown",
   "id": "a0d330c5-567b-4f93-9d68-cfe4e5feebbb",
   "metadata": {
    "collapsed": false,
    "id": "eb25BI9NRf_r"
   },
   "source": [
    "<a name='1.3'></a>\n",
    "###  1.3 Création d'ensembles d'entraînement et de test (1 point)\n",
    "\n",
    "Échantilloner de manière **aléatoire** 80% des données pour l'ensemble d'entrainement. Garder 20% pour l'ensemble de test. Utilisez la fonction train_test_split de sklearn. Stocker les résultats dans des variables."
   ]
  },
  {
   "cell_type": "code",
   "execution_count": 4,
   "id": "d5754c37-2dba-4d41-8ea0-c323ee26e9e5",
   "metadata": {
    "collapsed": false,
    "id": "xj6_wtHORf_r"
   },
   "outputs": [],
   "source": [
    "from sklearn.model_selection import train_test_split\n",
    "\n",
    "data = preprocess(data)\n",
    "\n",
    "X_train, X_test = train_test_split(data, test_size=0.2, random_state=42)"
   ]
  },
  {
   "cell_type": "markdown",
   "id": "84e9a43c-ec35-475a-8e4b-e487a4a8980b",
   "metadata": {
    "collapsed": false,
    "id": "im6I5qeRRf_r"
   },
   "source": [
    "<a name='1.4'></a>\n",
    "### 1.4 Construction du vocabulaire (4 points)\n",
    "\n",
    "Comme dans le TP1, construisez un vocabulaire à partir des données d'entraînement. Vous pouvez reprendre votre code du TP1.\n",
    "\n",
    "Complétez la fonction **build_voc** qui retourne une liste de jetons qui sont présents au moins n fois (threshold passé en paramètre) dans la liste d'exemples (également passée en paramètre). Vous pouvez utiliser la classe collections.Counter.\n",
    "\n",
    "Ensuite, appelez cette fonction pour construire votre vocabulaire à partir de l'ensemble d'entraînement **en utilisant threshold=2**. Imprimez la taille du vocabulaire.\n"
   ]
  },
  {
   "cell_type": "code",
   "execution_count": 5,
   "id": "57d8ae29-d418-4339-9215-63fb76ba2cf6",
   "metadata": {
    "collapsed": false,
    "id": "TZUdW6E2Rf_s"
   },
   "outputs": [],
   "source": [
    "from collections import Counter\n",
    "\n",
    "def build_voc(documents, threshold = 0):\n",
    "\n",
    "    documents = sum(documents, [])\n",
    "    #print('Document length: {}'.format(len(documents)))\n",
    "\n",
    "    # Count the number of occurences of each word\n",
    "    word_counts = Counter(documents)\n",
    "\n",
    "    # Keep only the words that appear at least threshold times\n",
    "    vocabulary = [word for word, count in word_counts.items() if count >= threshold]\n",
    "\n",
    "    vocabulary = vocabulary + ['<e>']\n",
    "\n",
    "    #print('Vocabulary size: {}'.format(len(vocabulary)))\n",
    "\n",
    "    #if threshold > 0:\n",
    "        #print('Filtered vocabulary size (threshold = {}): {}'.format(threshold, len(vocabulary)))\n",
    "\n",
    "    return vocabulary"
   ]
  },
  {
   "cell_type": "markdown",
   "id": "1d319957-6c36-48b8-a338-ac4ead28e121",
   "metadata": {
    "collapsed": false,
    "id": "FCQp7HsfRf_s"
   },
   "source": [
    "<a name='1.5'></a>\n",
    "### 1.5 Mots hors vocabulaire (4 points)\n",
    "\n",
    "Si votre modèle réalise de l'autocomplétion, mais qu'il rencontre un mot qu'il n'a jamais vu lors de l'entraînement, le modèle ne pourra donc pas prédire le mot suivant car il n'y a pas d'occurrence pour le mot actuel.\n",
    "\n",
    "Ces mots sont appelés les mots hors vocabulaire (Out of Vocabulary) <b>OOV</b>.\n",
    "Le pourcentage de mots inconnus dans l'ensemble de test est appelé le taux de mots <b> OOV </b>.\n",
    "\n",
    "Pour gérer les mots inconnus lors de la prédiction, utilisez un jeton spécial 'unk' pour représenter tous les mots inconnus. Plus spécifiquement, la technique que vous utiliserez sera la suivante:\n",
    "\n",
    "Complétez la fonction replace_oov qui convertit tous les mots qui ne font pas partie du vocabulaire en jeton '\\<unk\\>'.\n",
    "\n",
    "Appelez ensuite votre fonction sur votre corpus d'entraînement et de test.\n",
    "\n"
   ]
  },
  {
   "cell_type": "code",
   "execution_count": 6,
   "id": "139ea63f-55df-4b63-a039-5125f9d5cd48",
   "metadata": {
    "collapsed": false,
    "id": "747vkEklRf_s"
   },
   "outputs": [],
   "source": [
    "import copy\n",
    "\n",
    "def replace_oov(tokenized_sentences, voc):\n",
    "\n",
    "    new_tokenized_sentences = []\n",
    "    sentences_copy = copy.deepcopy(tokenized_sentences) # Avoid modifying the original list\n",
    "\n",
    "    for sentence in sentences_copy:\n",
    "        for i, token in enumerate(sentence):\n",
    "            if token not in voc:\n",
    "                sentence[i] = '<unk>'\n",
    "        new_tokenized_sentences.append(sentence)\n",
    "\n",
    "    return new_tokenized_sentences\n"
   ]
  },
  {
   "cell_type": "code",
   "execution_count": 7,
   "id": "a74d7699-c5df-4b34-ab25-ee56b1d22449",
   "metadata": {
    "collapsed": false,
    "id": "mukYZoIMRf_s",
    "outputId": "3fbbe80a-f1e0-4dec-966c-359de1fcba23"
   },
   "outputs": [
    {
     "name": "stdout",
     "output_type": "stream",
     "text": [
      "Phrase initiale:\n",
      "[['cats', 'sleep'], ['mice', 'eat'], ['cats', 'and', 'mice']]\n",
      "Phrase segmentée avec'<unk>':\n",
      "[['cats', '<unk>'], ['mice', '<unk>'], ['cats', '<unk>', 'mice']]\n"
     ]
    }
   ],
   "source": [
    "tokenized_sentences = [[\"cats\", \"sleep\"], [\"mice\", \"eat\"], [\"cats\", \"and\", \"mice\"]]\n",
    "vocabulary = build_voc([[\"cats\", \"sleep\"], [\"mice\", \"eat\"], [\"cats\", \"and\", \"mice\"]], 2)\n",
    "tmp_replaced_tokenized_sentences = replace_oov(tokenized_sentences, vocabulary)\n",
    "print(f\"Phrase initiale:\")\n",
    "print(tokenized_sentences)\n",
    "print(f\"Phrase segmentée avec'<unk>':\")\n",
    "print(tmp_replaced_tokenized_sentences)"
   ]
  },
  {
   "cell_type": "markdown",
   "id": "1fd1f711-713e-484e-a7f8-e9d164c2956f",
   "metadata": {
    "collapsed": false,
    "id": "wb3zGNDNRf_s"
   },
   "source": [
    "##### Sortie attendue\n",
    "```CPP\n",
    "Phrase initiale:\n",
    "[['cats', 'sleep'], ['mice', 'eat'], ['cats', 'and', 'mice']]\n",
    "Phrase segmentée avec '<unk>':\n",
    "[['cats', '<unk>'], ['mice', '<unk>'], ['cats', '<unk>', 'mice']]\n",
    "```"
   ]
  },
  {
   "cell_type": "markdown",
   "id": "8cbaaff2-6101-429a-8d5c-4efb5012f263",
   "metadata": {
    "collapsed": false,
    "id": "jrFykMnSRf_s"
   },
   "source": [
    "<a name='2'></a>\n",
    "## 2. Modèles de langue n-gramme (18 points)\n",
    "\n"
   ]
  },
  {
   "cell_type": "markdown",
   "id": "3945927a-dc80-48ad-afe1-09119c218f80",
   "metadata": {
    "collapsed": false,
    "id": "wv7Kv-zMRf_s"
   },
   "source": [
    "Dans cette section, vous développerez un modèle de langue n-grammes. Nous allons utiliser la formule:\n",
    "\n",
    "$$ \\hat{P}(w_t | w_{t-1}\\dots w_{t-n}) = \\frac{C(w_{t-1}\\dots w_{t-n}, w_t)}{C(w_{t-1}\\dots w_{t-n})} \\tag{2} $$\n",
    "\n",
    "- La fonction $C(\\cdots)$ représente le nombre d'occurrences de la séquence donnée.\n",
    "- $\\hat{P}$ signifie l'estimation de $P$.\n",
    "\n",
    "Vous pouvez estimer cette probabilité en comptant les occurrences de ces séquences de mots dans les données d'entraînement.\n"
   ]
  },
  {
   "cell_type": "markdown",
   "id": "9847efcc-a7ae-40a4-b647-f1df8226bb5e",
   "metadata": {
    "collapsed": false,
    "id": "UyrhbEZZRf_s"
   },
   "source": [
    "<a name='2.1'></a>\n",
    "### 2.1 Fréquence des n-grammes (3 points)"
   ]
  },
  {
   "cell_type": "markdown",
   "id": "6137ab83-16e0-420e-aa19-3f0ad09c4c95",
   "metadata": {
    "collapsed": false,
    "id": "-oMVV0AERf_s"
   },
   "source": [
    "\n",
    "\n",
    "Vous allez commencer par mettre en œuvre une fonction qui calcule la fréquence des n-grammes pour un nombre arbitraire $n$.\n",
    "\n",
    "Vous devez pré-traiter la phrase en ajoutant $n$ marqueurs de début de phrase \"\\<s\\>\" pour indiquer le commencement de la phrase.\n",
    "\n",
    "- Par exemple, dans un modèle bigramme (N=2), la séquence devrait commencer avec deux jetons de début \"\\<s\\>\\<s\\>\". Ainsi, si la phrase est \"J'aime la nourriture\", modifiez-la pour devenir \"\\<s\\>\\<s\\> J'aime la nourriture\".\n",
    "- Ajoutez aussi un jeton de fin \"\\<e\\>\" pour que le modèle puisse prédire quand terminer une phrase.\n",
    "    \n",
    "\n",
    "Dans cette implémentation, vous devez stocker les occurrences des n-grammes sous forme de dictionnaire.\n",
    "\n",
    "- La clé de chaque paire clé-valeur dans le dictionnaire est un tuple de n mots (et non une liste).\n",
    "- La valeur dans la paire clé-valeur est le nombre d'occurrences."
   ]
  },
  {
   "cell_type": "code",
   "execution_count": 8,
   "id": "0aaae4bd-a8d8-4cb7-ba25-7ff8a0b4e2e4",
   "metadata": {
    "collapsed": false,
    "id": "wxO80wyIRf_s"
   },
   "outputs": [],
   "source": [
    "\n",
    "def count_n_grams(data, n, start_token='<s>', end_token = '<e>'):\n",
    "\n",
    "    n_grams = {}\n",
    "\n",
    "    for sentence in data:\n",
    "        # Add start and end tokens\n",
    "        sentence = [start_token] * n + sentence + [end_token]\n",
    "\n",
    "        sentence = tuple(sentence)\n",
    "\n",
    "        # Create n-grams\n",
    "        n_grams_in_sentence = zip(*[sentence[i:] for i in range(n)])\n",
    "\n",
    "        # Count n-grams\n",
    "        for n_gram in n_grams_in_sentence:\n",
    "            if n_gram in n_grams:\n",
    "                n_grams[n_gram] += 1\n",
    "            else:\n",
    "                n_grams[n_gram] = 1\n",
    "\n",
    "    return n_grams"
   ]
  },
  {
   "cell_type": "code",
   "execution_count": 9,
   "id": "823622b5-5174-4e22-93ce-d9edfe10f951",
   "metadata": {
    "collapsed": false,
    "id": "OAepnocxRf_s",
    "outputId": "90fe4ba3-0a97-4fa2-8954-d143b708c680"
   },
   "outputs": [
    {
     "name": "stdout",
     "output_type": "stream",
     "text": [
      "Unigrammes:\n",
      "{('<s>',): 2, ('i',): 1, ('have',): 1, ('a',): 1, ('mouse',): 2, ('<e>',): 2, ('this',): 1, ('likes',): 1, ('cats',): 1}\n",
      "Bigrammes:\n",
      "{('<s>', '<s>'): 2, ('<s>', 'i'): 1, ('i', 'have'): 1, ('have', 'a'): 1, ('a', 'mouse'): 1, ('mouse', '<e>'): 1, ('<s>', 'this'): 1, ('this', 'mouse'): 1, ('mouse', 'likes'): 1, ('likes', 'cats'): 1, ('cats', '<e>'): 1}\n"
     ]
    }
   ],
   "source": [
    "sentences = [['i', 'have', 'a', 'mouse'],\n",
    "             ['this', 'mouse', 'likes', 'cats']]\n",
    "print(\"Unigrammes:\")\n",
    "print(count_n_grams(sentences, 1))\n",
    "print(\"Bigrammes:\")\n",
    "print(count_n_grams(sentences, 2))"
   ]
  },
  {
   "cell_type": "markdown",
   "id": "7ae4082e-5385-4fc7-9171-c32e8d296566",
   "metadata": {
    "collapsed": false,
    "id": "60adHNidRf_t"
   },
   "source": [
    "Sortie attendue:\n",
    "\n",
    "```CPP\n",
    "Unigrammes:\n",
    "{('<s>',): 2, ('i',): 1, ('have',): 1, ('a',): 1, ('mouse',): 2, ('<e>',): 2, ('this',): 1, ('likes',): 1, ('cats',): 1}\n",
    "Bigrammes:\n",
    "{('<s>', '<s>'): 2, ('<s>', 'i'): 1, ('i', 'have'): 1, ('have', 'a'): 1, ('a', 'mouse'): 1, ('mouse', '<e>'): 1, ('<s>', 'this'): 1, ('this', 'mouse'): 1, ('mouse', 'likes'): 1, ('likes', 'cats'): 1, ('cats', '<e>'): 1}\n",
    "\n",
    "```"
   ]
  },
  {
   "cell_type": "markdown",
   "id": "f7aaadba-62bf-45cf-8050-5d94422d4993",
   "metadata": {
    "collapsed": false,
    "id": "yr1m0xETRf_t"
   },
   "source": [
    "<a name='2.2'></a>\n",
    "### 2.2 Estimé du maximum de vraisemblance MLE (4 points)\n",
    "\n",
    "#### 2.2.1 Calcul de probabilité pour un mot (3 points)\n",
    "\n",
    "\n",
    "Ensuite, estimez la probabilité d'un mot étant donnés les 'n' mots précédents avec les fréquences obtenues.\n",
    "\n",
    "$$ \\hat{P}(w_t | w_{t-1}\\dots w_{t-n}) = \\frac{C(w_{t-1}\\dots w_{t-n}, w_t)}{C(w_{t-1}\\dots w_{t-n})} \\tag{2}$$\n",
    "\n",
    "\n",
    "La fonction prend en entrée:\n",
    "\n",
    "- word : le mot dont on veut estimer la probabilité\n",
    "- previous_n_gram : le n-gramme précédent, sous forme de tuple\n",
    "- n_gram_counts: Un dictionnaire où la clé est le n-gramme et la valeur est la fréquence de ce n-gramme.\n",
    "- n_plus1_gram_counts: Un autre dictionnaire, que vous utiliserez pour trouver la fréquence du n-gramme précédent plus le mot actuel.\n"
   ]
  },
  {
   "cell_type": "code",
   "execution_count": 10,
   "id": "36bacccc-e37f-42dc-94a6-c552ef1aa850",
   "metadata": {
    "collapsed": false,
    "id": "DvGEdGeeRf_t"
   },
   "outputs": [],
   "source": [
    "\n",
    "def estimate_probability(word, previous_n_gram, n_gram_counts, n_plus1_gram_counts):\n",
    "\n",
    "    previous_n_gram = tuple(previous_n_gram)\n",
    "    previous_n_gram_count = n_gram_counts[previous_n_gram] if previous_n_gram in n_gram_counts else 0\n",
    "\n",
    "    n_plus1_gram = previous_n_gram + (word,)\n",
    "    n_plus1_gram_count = n_plus1_gram_counts[n_plus1_gram] if n_plus1_gram in n_plus1_gram_counts else 0\n",
    "\n",
    "    probability = n_plus1_gram_count / previous_n_gram_count\n",
    "\n",
    "    return probability"
   ]
  },
  {
   "cell_type": "markdown",
   "id": "994e2420-baf5-4637-942e-7f1b772a4a06",
   "metadata": {
    "collapsed": false,
    "id": "YKbv0PH0Rf_t"
   },
   "source": [
    "#### 2.2.1 Quel est le problème de cette fonction? Quelle embûche pourrait-on rencontrer? Répondre avec un exemple. (1 points)"
   ]
  },
  {
   "cell_type": "markdown",
   "id": "508b2a00-6422-4642-84eb-140fbefea9f1",
   "metadata": {
    "collapsed": false,
    "id": "x1EmNzj7Rf_t"
   },
   "source": [
    "> La probabilité d'une phrase contenant un N-gramme jamais observé sera toujours de 0."
   ]
  },
  {
   "cell_type": "markdown",
   "id": "5323f12c-e47e-4d43-9357-bd789a909d93",
   "metadata": {
    "collapsed": false,
    "id": "p7JZrTf6Rf_t"
   },
   "source": [
    "<a name='2.3'></a>\n",
    "### 2.3  Lissage add-k (4 points)\n",
    "\n",
    "Vous allez maintenant modifier votre fonction précédente en utilisant le lissage add-k.\n",
    "\n",
    "$$ \\hat{P}(w_t | w_{t-1}\\dots w_{t-n}) = \\frac{C(w_{t-1}\\dots w_{t-n}, w_n) + k}{C(w_{t-1}\\dots w_{t-n}) + k|V|} \\tag{3} $$\n",
    "\n",
    "Recodez la fonction au numéro 2.2 en ajoutant une constante de lissage $k$ and la taille du vocabulaire en paramètres supplémentaires."
   ]
  },
  {
   "cell_type": "code",
   "execution_count": 11,
   "id": "1c5478ed-da56-4c75-aa69-b1103176a143",
   "metadata": {
    "collapsed": false,
    "id": "3pq6VJUKRf_t"
   },
   "outputs": [],
   "source": [
    "\n",
    "def estimate_probability_smoothing(word, previous_n_gram, n_gram_counts, n_plus1_gram_counts, vocabulary_size, k=1.0):\n",
    "\n",
    "    previous_n_gram = tuple(previous_n_gram)\n",
    "    previous_n_gram_count = n_gram_counts[previous_n_gram] if previous_n_gram in n_gram_counts else 0\n",
    "\n",
    "    denominator = previous_n_gram_count + k*vocabulary_size\n",
    "\n",
    "    n_plus1_gram = previous_n_gram + (word,)\n",
    "    n_plus1_gram_count = n_plus1_gram_counts[n_plus1_gram] if n_plus1_gram in n_plus1_gram_counts else 0\n",
    "\n",
    "    numerator = n_plus1_gram_count + k\n",
    "\n",
    "    probability = numerator / denominator\n",
    "\n",
    "    return probability"
   ]
  },
  {
   "cell_type": "code",
   "execution_count": 12,
   "id": "c7020374-85af-4258-8c3d-434f89aacb58",
   "metadata": {
    "collapsed": false,
    "id": "ybrCqIRgRf_t",
    "outputId": "0c98fb5f-18a3-4c83-be03-4e72acc5fec7"
   },
   "outputs": [
    {
     "name": "stdout",
     "output_type": "stream",
     "text": [
      " La probabilité de 'have' étant donné le mot précédent 'i' est: 0.2500\n"
     ]
    }
   ],
   "source": [
    "# test\n",
    "sentences = [['i', 'have', 'a', 'mouse'],\n",
    "             ['this', 'mouse', 'likes', 'cats']]\n",
    "unique_words = list(set(sentences[0] + sentences[1]))\n",
    "\n",
    "bigram_counts = count_n_grams(sentences, 2)\n",
    "trigram_counts = count_n_grams(sentences, 3)\n",
    "tmp_prob = estimate_probability_smoothing(\"have\", ['<s>', 'i'], bigram_counts, trigram_counts, len(unique_words), k=1)\n",
    "\n",
    "print(f\" La probabilité de 'have' étant donné le mot précédent 'i' est: {tmp_prob:.4f}\")"
   ]
  },
  {
   "cell_type": "markdown",
   "id": "27c6d26a-b8c8-4b02-bfa2-d9bd477cd092",
   "metadata": {
    "collapsed": false,
    "id": "jr79PVSwRf_t"
   },
   "source": [
    "##### Sortie attendue\n",
    "\n",
    "```CPP\n",
    " La probabilité de 'have' étant donné le mot précédent 'i' est: 0.2500\n",
    "```"
   ]
  },
  {
   "cell_type": "markdown",
   "id": "bea6f6eb-9a74-493a-acdc-01dcfa66d8d8",
   "metadata": {
    "collapsed": false,
    "id": "4NvWbviCRf_t"
   },
   "source": [
    "<a name='2.4'></a>\n",
    "### 2.4 Calcul des probabilités des n-grammes (7 points)\n",
    "\n",
    "#### 2.4.1. Estimation des probabilités (4 points)\n",
    "Complétez la fonction estimate_probabilities qui calcule pour chaque mot du vocabulaire la probabilité d'être généré en utilisant la fonction avec lissage add-k.\n",
    "\n",
    "N'oubliez pas d'ajouter le jetons spécial \"\\<e\\>\" au vocabulaire\n",
    "\n",
    "Cette fonction prends en entrée:\n",
    "- previous_n_gram: le n-gramme précédent, sous forme de tuple\n",
    "- n_gram_counts: Un dictionnaire où la clé est le n-gramme et la valeur est la fréquence de ce n-gramme.\n",
    "- n_plus1_gram_counts: Un autre dictionnaire, que vous utiliserez pour trouver la fréquence du n-gramme précédent plus le mot actuel.\n",
    "- vocabulary: le vocabulaire\n",
    "- k: la constante de lissage\n",
    "\n",
    "La fonction retourne un dictionnaire ayant pour clés tous les mots du vocabulaire ainsi que leur probabilité d'être générés"
   ]
  },
  {
   "cell_type": "code",
   "execution_count": 13,
   "id": "48ce2af2-3c0c-4918-a14f-e22261320bdd",
   "metadata": {
    "collapsed": false,
    "id": "XonXQIIqRf_t"
   },
   "outputs": [],
   "source": [
    "def estimate_probabilities(previous_n_gram, n_gram_counts, n_plus1_gram_counts, vocabulary, k=1.0):\n",
    "\n",
    "    previous_n_gram = tuple(previous_n_gram)\n",
    "\n",
    "    probabilities = {}\n",
    "    for word in vocabulary:\n",
    "        probability = estimate_probability_smoothing(word, previous_n_gram, n_gram_counts, n_plus1_gram_counts, len(vocabulary), k=k)\n",
    "        probabilities[word] = probability\n",
    "\n",
    "    return probabilities"
   ]
  },
  {
   "cell_type": "code",
   "execution_count": 14,
   "id": "ac6fa30e-07f3-4161-a4b1-751fa7309990",
   "metadata": {
    "collapsed": false,
    "id": "ijCjOzumRf_u",
    "outputId": "fd38ab0c-8e8f-46ec-a960-729dd9546fc9"
   },
   "outputs": [
    {
     "data": {
      "text/plain": [
       "{'i': 0.1111111111111111,\n",
       " 'have': 0.1111111111111111,\n",
       " 'a': 0.1111111111111111,\n",
       " 'mouse': 0.2222222222222222,\n",
       " 'this': 0.1111111111111111,\n",
       " 'likes': 0.1111111111111111,\n",
       " 'cats': 0.1111111111111111,\n",
       " '<e>': 0.1111111111111111}"
      ]
     },
     "execution_count": 14,
     "metadata": {},
     "output_type": "execute_result"
    }
   ],
   "source": [
    "# test\n",
    "sentences = [['i', 'have', 'a', 'mouse'],\n",
    "             ['this', 'mouse', 'likes', 'cats']]\n",
    "unique_words = build_voc(sentences, threshold=0)\n",
    "unigram_counts = count_n_grams(sentences, 1)\n",
    "bigram_counts = count_n_grams(sentences, 2)\n",
    "estimate_probabilities([\"a\"], unigram_counts, bigram_counts, unique_words, k=1)"
   ]
  },
  {
   "cell_type": "markdown",
   "id": "85edb99b-95f8-4b77-86ed-eac6d7adcad6",
   "metadata": {
    "collapsed": false,
    "id": "pku2grU8Rf_u"
   },
   "source": [
    "##### Sortie attendue\n",
    "\n",
    "```CPP\n",
    "{'likes': 0.1111111111111111,\n",
    " 'have': 0.1111111111111111,\n",
    " 'this': 0.1111111111111111,\n",
    " 'i': 0.1111111111111111,\n",
    " 'mouse': 0.2222222222222222,\n",
    " 'a': 0.1111111111111111,\n",
    " 'cats': 0.1111111111111111,\n",
    " '<e>': 0.1111111111111111}\n",
    "```"
   ]
  },
  {
   "cell_type": "markdown",
   "id": "5ba82b5f-cb9b-42af-8507-8fdd7986da72",
   "metadata": {
    "collapsed": false,
    "id": "edXYBYZsRf_u"
   },
   "source": [
    "#### 2.4.2. Probabilités étant donné un contexte (3 points)\n",
    "\n",
    "Affichez maintenant les probabilités des tri-grammes étant donné le context \"i will\" en utilisant les données d'entraînement . N'affichez que les 10 mots les plus probables en ordre décroissant de probabilité. Utilisez K=1"
   ]
  },
  {
   "cell_type": "code",
   "execution_count": 15,
   "id": "19b609c2-f5fb-46a1-a24c-a3f5216bcf21",
   "metadata": {
    "collapsed": false
   },
   "outputs": [],
   "source": [
    "# Create the vocabulary from the training set and the n-grams\n",
    "\n",
    "X_train_vocabulary = build_voc(X_train)"
   ]
  },
  {
   "cell_type": "code",
   "execution_count": 34,
   "id": "28b415bc-baa0-4229-ab6e-c65130d4171f",
   "metadata": {
    "collapsed": false
   },
   "outputs": [],
   "source": [
    "X_train_unigrams = count_n_grams(X_train, 1)\n",
    "X_train_bigrams = count_n_grams(X_train, 2)\n",
    "X_train_trigrams = count_n_grams(X_train, 3)\n",
    "X_train_quadgrams = count_n_grams(X_train, 4)\n",
    "X_train_quintgrams = count_n_grams(X_train, 5)\n",
    "X_train_sixtgrams = count_n_grams(X_train, 6)"
   ]
  },
  {
   "cell_type": "code",
   "execution_count": 17,
   "id": "64eb9c0b-aa48-4757-90c1-b9bb7d67739e",
   "metadata": {
    "collapsed": false,
    "id": "aQmw2lajRf_u",
    "outputId": "2c686218-56c7-4226-c795-7386a7c97b2e"
   },
   "outputs": [
    {
     "name": "stdout",
     "output_type": "stream",
     "text": [
      "Probabilités des tri-grammes étant donné le context 'i will':\n"
     ]
    },
    {
     "data": {
      "text/plain": [
       "[('tell', 0.005689074654591896),\n",
       " ('fight', 0.0038314176245210726),\n",
       " ('fix', 0.0035992104957622197),\n",
       " ('be', 0.003134796238244514),\n",
       " ('never', 0.002786485545106235),\n",
       " ('say', 0.0024381748519679554),\n",
       " ('not', 0.0015093463369325439),\n",
       " ('ask', 0.0013932427725531174),\n",
       " ('also', 0.0011610356437942646),\n",
       " ('work', 0.0011610356437942646)]"
      ]
     },
     "execution_count": 17,
     "metadata": {},
     "output_type": "execute_result"
    }
   ],
   "source": [
    "\n",
    "# Show the probabilities for 3-grams given the first two words being \"i will\"\n",
    "\n",
    "print(\"Probabilités des tri-grammes étant donné le context 'i will':\")\n",
    "i_will_prob = estimate_probabilities(['i', 'will'], X_train_bigrams, X_train_trigrams, X_train_vocabulary, k=1)\n",
    "i_will_prob_top = sorted(i_will_prob.items(), key=lambda x: x[1], reverse=True)\n",
    "i_will_prob_top[:10]"
   ]
  },
  {
   "cell_type": "markdown",
   "id": "a1074b78-f8bb-4806-a96f-3a83c7b3b083",
   "metadata": {
    "collapsed": false,
    "id": "Gc9arzX1Rf_y"
   },
   "source": [
    "##### Sortie attendue\n",
    "\n",
    "```CPP\n",
    "[('tell', 0.0070981916511745815),\n",
    " ('fix', 0.005239141456819334),\n",
    " ('fight', 0.005239141456819334),\n",
    " ('be', 0.0050701368936961295),\n",
    " ('never', 0.004225114078080108),\n",
    " ('say', 0.003718100388710495),\n",
    " ('not', 0.0025350684468480648),\n",
    " ('ask', 0.0023660638837248605),\n",
    " ('also', 0.0018590501943552475),\n",
    " ('work', 0.001521041068108839)]\n",
    "```"
   ]
  },
  {
   "cell_type": "markdown",
   "id": "c170d3f6-95e0-4714-a971-3e5cfc06ca8d",
   "metadata": {
    "collapsed": false,
    "id": "-uCN6wl1Rf_y"
   },
   "source": [
    "<a name='3'></a>\n",
    "## 3. Perplexité (15 points)\n",
    "\n",
    "Dans cette section, vous allez générer le score de perplexité pour évaluer votre modèle sur l'ensemble de test.\n",
    "\n",
    "Pour calculer le score de perplexité d'une phrase sur un modèle n-gramme, utilisez :\n",
    "\n",
    "$$PP(W) =\\sqrt[N]{ \\prod_{t=1}^{N} \\frac{1}{P(w_t | w_{t-n} \\cdots w_{t-1})} } \\tag{4.1}$$\n",
    "\n",
    "où N = le nombre de jeton dans la phrases incluant le jeton \\<e\\>\n",
    "et P = la probabilité de générer le jeton $w_t$\n",
    "\n",
    "Plus les probabilités sont élevées, plus la perplexité sera basse.\n",
    "\n",
    "<a name='3.1'></a>\n",
    "### 3.1. Calcul de la perplexité (4 points)\n",
    "Complétez la fonction `calculate_perplexity`, qui pour une phrase donnée, nous donne le score de perplexité. Cette fonction prend en entrée:\n",
    "\n",
    "\n",
    "- sentence: La phrase pour laquelle vous devez calculer la perplexité\n",
    "- n_gram_counts: Un dictionnaire où la clé est le n-gramme et la valeur est la fréquence de ce n-gramme.\n",
    "- n_plus1_gram_counts: Un autre dictionnaire, que vous utiliserez pour trouver la fréquence du n-gramme précédent plus le mot actuel.\n",
    "- vocabulary_size: la taille du vocabulaire\n",
    "- k: la constante de lissage"
   ]
  },
  {
   "cell_type": "code",
   "execution_count": 18,
   "id": "76408b29-e11f-44a0-bf48-9f90721ddb6f",
   "metadata": {
    "collapsed": false,
    "id": "pV9dC6cmRf_y"
   },
   "outputs": [],
   "source": [
    "\n",
    "def calculate_perplexity(sentence, n_gram_counts, n_plus1_gram_counts, vocabulary_size, k=1.0):\n",
    "\n",
    "    # Calculate perplexity for one sentence\n",
    "    n = len(list(n_gram_counts.keys())[0]) # n is the n of the n-gram we use to estimate the probabilities\n",
    "\n",
    "    sentence = [\"<s>\"] * n + sentence + [\"<e>\"]\n",
    "    sentence = tuple(sentence)\n",
    "\n",
    "    N = len(sentence) - n\n",
    "\n",
    "    product_pi = 1.0\n",
    "\n",
    "    for t in range(n, N+n):\n",
    "        word = sentence[t]\n",
    "        previous_n_gram = sentence[t-n:t]\n",
    "        #print(word)\n",
    "        #print(previous_n_gram)\n",
    "        probability = estimate_probability_smoothing(word, previous_n_gram, n_gram_counts, n_plus1_gram_counts, vocabulary_size, k=k)\n",
    "        #print(f'Probabilty of {word} given {previous_n_gram}: {probability:.4f}')\n",
    "        product_pi *= 1/probability\n",
    "        #print(f'Product pi: {product_pi:.4f}')\n",
    "\n",
    "    perplexity = product_pi**(1.0/float(N))\n",
    "\n",
    "    return perplexity\n"
   ]
  },
  {
   "cell_type": "code",
   "execution_count": 19,
   "id": "78a118ea-acf4-44e6-a79d-4e13ece05ae1",
   "metadata": {
    "collapsed": false,
    "id": "n2VLK6ytRf_y",
    "outputId": "7b127463-47db-47eb-a4c3-2f2ed4b648fd"
   },
   "outputs": [
    {
     "name": "stdout",
     "output_type": "stream",
     "text": [
      "Perplexité de la première phrase: 4.1930\n"
     ]
    }
   ],
   "source": [
    "# test\n",
    "\n",
    "sentences = [['i', 'have', 'a', 'mouse'],\n",
    "             ['this', 'mouse', 'likes', 'cats']]\n",
    "unique_words = list(set(sentences[0] + sentences[1]))\n",
    "\n",
    "unigram_counts = count_n_grams(sentences, 1)\n",
    "bigram_counts = count_n_grams(sentences, 2)\n",
    "\n",
    "\n",
    "perplexity = calculate_perplexity(sentences[0],\n",
    "                                         unigram_counts, bigram_counts,\n",
    "                                         len(unique_words), k=1.0)\n",
    "print(f\"Perplexité de la première phrase: {perplexity:.4f}\")\n"
   ]
  },
  {
   "cell_type": "markdown",
   "id": "7a4a9f75-b5a2-4061-93c0-c492979f928a",
   "metadata": {
    "collapsed": false,
    "id": "IJ8dUp2wRf_y"
   },
   "source": [
    "<a name='3.2'></a>\n",
    "### 3.2. Perplexité sur une phrase d'entraînement (4 points)\n",
    "Calculez et affichez la perplexité des modèles bi-grammes, tri-grammes et quadri-grammes à l'aide de votre fonction `calculate_perplexity` définie plus haut sur la première phrase de votre corpus d'entraînement. Utilisez K=0.01 ici."
   ]
  },
  {
   "cell_type": "code",
   "execution_count": 20,
   "id": "7df5b46c-81b8-4518-b96f-fa2dfbe055d1",
   "metadata": {
    "collapsed": false
   },
   "outputs": [
    {
     "name": "stdout",
     "output_type": "stream",
     "text": [
      "Perplexité de la première phrase (bi-gramme): 45.9451\n",
      "Perplexité de la première phrase (tri-gramme): 33.0164\n",
      "Perplexité de la première phrase (quadri-gramme): 39.7894\n"
     ]
    }
   ],
   "source": [
    "perplexity_bigram = calculate_perplexity(X_train[0], \n",
    "                                         X_train_unigrams, X_train_bigrams, \n",
    "                                         len(X_train_vocabulary), k=0.01)\n",
    "\n",
    "perplexity_trigram = calculate_perplexity(X_train[0],\n",
    "                                          X_train_bigrams, X_train_trigrams,\n",
    "                                          len(X_train_vocabulary), k=0.01)\n",
    "\n",
    "perplexity_quadrigram = calculate_perplexity(X_train[0],\n",
    "                                             X_train_trigrams, X_train_quadgrams,\n",
    "                                             len(X_train_vocabulary), k=0.01)\n",
    "\n",
    "print(f\"Perplexité de la première phrase (bi-gramme): {perplexity_bigram:.4f}\")\n",
    "print(f\"Perplexité de la première phrase (tri-gramme): {perplexity_trigram:.4f}\")\n",
    "print(f\"Perplexité de la première phrase (quadri-gramme): {perplexity_quadrigram:.4f}\")"
   ]
  },
  {
   "cell_type": "markdown",
   "id": "69519b19-428a-4e72-8282-21db1ac045b8",
   "metadata": {
    "collapsed": false,
    "id": "RXIyUEp7Rf_y"
   },
   "source": [
    "<a name='3.3'></a>\n",
    "### 3.3. Perplexité du corpus de test (7 points)\n",
    "\n",
    "#### 3.3.1. Vous pouvez maintenant calculer et afficher la perplexité des modèles bi-grammes, tri-grammes et quadri-grammes sur votre corpus de test. K=1 ici. (4 points)\n",
    "\n",
    "Pour calculer la perplexité d'un corpus de *m* phrases, il suffit de suivre la formule suivante :\n",
    "\n",
    "Soit $N$ le nombre total de jetons dans le corpus de test C et $N_i$ le nombre de jetons dans la phrase i.\n",
    "\n",
    "$$Perplexity(C) = \\Big(\\frac{1}{P(s_1, ..., s_m)}\\Big)^{1/N}$$\n",
    "$$P(s_1, ..., s_m) = \\prod_{i=1}^{m} p(s_i)$$\n",
    "$$p(s_i) = \\prod_{t=1}^{N_i} \\hat{P}(w_t | w_{t-n} \\cdots w_{t-1})$$\n",
    "\n",
    "Puisqu'il s'agit d'un multiplication de probabilités (situées entre 0 et 1), le produit devient nul très rapidement. C'est pourquoi il est plus efficace d'effectuer une transformation vers un espace logarithmique pour transformer les multiplications en addition. Cela donne ainsi la formule suivante:\n",
    "\n",
    "$$LogPerplexity(C) = 2^{-\\frac{1}{N} \\sum_{k=1}^{m} log_{2} \\; p(s_k)}$$\n"
   ]
  },
  {
   "cell_type": "code",
   "execution_count": 21,
   "id": "2d239cca-d85e-4fd7-a004-16e94a571dbb",
   "metadata": {
    "collapsed": false,
    "id": "FQErns7URf_y"
   },
   "outputs": [],
   "source": [
    "import math\n",
    "\n",
    "def calculate_perplexity_corpus(corpus, n_gram_counts, n_plus1_gram_counts, vocabulary_size, k=1.0):\n",
    "\n",
    "    N = sum([len(sentence) + 1 for sentence in corpus])\n",
    "\n",
    "    n = len(list(n_gram_counts.keys())[0]) # n is the n of the n-gram we use to estimate the probabilities\n",
    "\n",
    "    log_sum = 0\n",
    "    for sentence in corpus:\n",
    "\n",
    "        sentence_perplexity = 1.0\n",
    "        sentence = [\"<s>\"] * n + sentence + [\"<e>\"]\n",
    "        sentence = tuple(sentence)\n",
    "\n",
    "        N_i = len(sentence) - n\n",
    "\n",
    "        product_pi = 1.0\n",
    "\n",
    "        for t in range(n, N_i+n):\n",
    "            word = sentence[t]\n",
    "            previous_n_gram = sentence[t-n:t]\n",
    "            probability = estimate_probability_smoothing(word, previous_n_gram, n_gram_counts, n_plus1_gram_counts, vocabulary_size, k=k)\n",
    "            sentence_perplexity *= probability\n",
    "\n",
    "        if sentence_perplexity == 0:\n",
    "            print('Log 0 error ignored! (Underflow)')\n",
    "            print(sentence)\n",
    "            print(f'word:  {word}')\n",
    "            print(f'previous_n_gram:  {previous_n_gram}')\n",
    "            print(f'Sentence perplexity: {sentence_perplexity:.4f}')\n",
    "        else:\n",
    "            log_sum += math.log2(sentence_perplexity)\n",
    "\n",
    "    perplexity = 2**(-log_sum/N)\n",
    "\n",
    "    return perplexity"
   ]
  },
  {
   "cell_type": "code",
   "execution_count": 22,
   "id": "328e7059-0b1d-4f31-84b3-b875c1ef3f2a",
   "metadata": {
    "collapsed": false,
    "id": "18oxZKhkRf_y"
   },
   "outputs": [
    {
     "name": "stdout",
     "output_type": "stream",
     "text": [
      "Perplexité du corpus de test: 7.7089\n"
     ]
    }
   ],
   "source": [
    "n_gram_counts = {('<s>', 'quick'): 1, ('the', 'quick'): 1, ('quick', 'brown'): 1, ('brown', 'fox'): 1, ('jumps', 'over'): 1, ('over', 'the'): 1, ('the', 'lazy'): 1, ('lazy', 'dog'): 1, ('dog', '<e>'): 1}\n",
    "n_plus1_gram_counts = { ('<s>', '<s>', 'the', ): 1, ('<s>', 'the', 'quick'): 1, ('the', 'quick', 'brown'): 1, ('quick', 'brown', 'fox'): 1, ('jumps', 'over', 'the'): 1, ('over', 'the', 'lazy'): 1, ('the', 'lazy', 'dog'): 1, ('lazy', 'dog', '<e>'): 1}\n",
    "\n",
    "train_corpus = [[\"the\", \"quick\", \"brown\", \"fox\"], [\"jumps\", \"over\", \"the\", \"lazy\", \"dog\"]]\n",
    "n_gram_counts = {('<s>', '<s>'): 2, ('<s>', 'the'): 1, ('<s>', 'jumps'): 1, ('the', 'quick'): 1, ('quick', 'brown'): 1, ('brown', 'fox'): 1, ('fox', '<e>'): 1, ('jumps', 'over'): 1, ('over', 'the'): 1, ('the', 'lazy'): 1, ('lazy', 'dog'): 1, ('dog', '<e>'): 1}\n",
    "n_plus1_gram_counts = {('<s>', '<s>', '<s>', ): 2, ('<s>', '<s>', 'the', ): 1, ('<s>', 'the', 'quick'): 1,  ('<s>', '<s>', 'jumps', ): 1, ('<s>', 'jumps', 'over'): 1, ('the', 'quick', 'brown'): 1, ('quick', 'brown', 'fox'): 1, ('brown', 'fox', '<e>'): 1, ('jumps', 'over', 'the'): 1, ('over', 'the', 'lazy'): 1, ('the', 'lazy', 'dog'): 1, ('lazy', 'dog', '<e>'): 1}\n",
    "\n",
    "vocabulary = [\"the\", \"quick\", \"brown\", \"fox\", \"jumps\", \"over\", \"lazy\", \"dog\", \"<e>\"]\n",
    "\n",
    "test_corpus = [[\"the\", \"fox\"], [\"jumps\"]]\n",
    "\n",
    "# Complétez le calcul de la perplexité avec k=1\n",
    "perplexity_test = calculate_perplexity_corpus(test_corpus, n_gram_counts, n_plus1_gram_counts, len(vocabulary), k=1.0)\n",
    "print(f\"Perplexité du corpus de test: {perplexity_test:.4f}\")\n"
   ]
  },
  {
   "cell_type": "markdown",
   "id": "6e2da5d2-9269-461b-bc98-39abb2a4763a",
   "metadata": {
    "collapsed": false,
    "id": "T8oSPkEDRf_z"
   },
   "source": [
    "#### Sortie attendue\n",
    "\n",
    "    Perplexité du corpus de test:  7.708920690856638"
   ]
  },
  {
   "cell_type": "code",
   "execution_count": 23,
   "id": "b20702e9-d4c5-4565-88cf-72f555b81611",
   "metadata": {
    "collapsed": false,
    "id": "96nlCwpIRf_z"
   },
   "outputs": [
    {
     "name": "stdout",
     "output_type": "stream",
     "text": [
      "Log 0 error ignored! (Underflow)\n",
      "('<s>', '<s>', '<s>', 'this', 'is', 'now', 'a', 'situation', 'where', 'this', 'was', 'written', 'by', 'al', 'wilson', 'many', 'years', 'ago', 'and', 'i', 'read', 'it', 'and', 'i', 'said', 'you', 'know', 'that', 'really', 'pertains', 'to', 'what', \"'s\", 'happening', 'to', 'the', 'united', 'states', 'and', 'it', 'has', 'to', 'do', 'with', 'being', 'fooled', ',', 'it', 'has', 'to', 'do', 'with', 'a', 'lot', 'of', 'different', 'things', 'but', 'when', 'you', \"'re\", 'listening', 'to', 'this', ',', 'think', 'of', 'our', 'border', ',', 'think', 'of', 'the', 'people', 'that', 'we', \"'re\", 'letting', 'in', 'by', 'the', 'thousands', 'and', 'hillary', 'clinton', ',', 'you', 'saw', 'those', 'numbers', 'right', '<e>')\n",
      "word:  <e>\n",
      "previous_n_gram:  ('those', 'numbers', 'right')\n",
      "Sentence perplexity: 0.0000\n",
      "Log 0 error ignored! (Underflow)\n",
      "('<s>', '<s>', '<s>', '<s>', 'this', 'is', 'now', 'a', 'situation', 'where', 'this', 'was', 'written', 'by', 'al', 'wilson', 'many', 'years', 'ago', 'and', 'i', 'read', 'it', 'and', 'i', 'said', 'you', 'know', 'that', 'really', 'pertains', 'to', 'what', \"'s\", 'happening', 'to', 'the', 'united', 'states', 'and', 'it', 'has', 'to', 'do', 'with', 'being', 'fooled', ',', 'it', 'has', 'to', 'do', 'with', 'a', 'lot', 'of', 'different', 'things', 'but', 'when', 'you', \"'re\", 'listening', 'to', 'this', ',', 'think', 'of', 'our', 'border', ',', 'think', 'of', 'the', 'people', 'that', 'we', \"'re\", 'letting', 'in', 'by', 'the', 'thousands', 'and', 'hillary', 'clinton', ',', 'you', 'saw', 'those', 'numbers', 'right', '<e>')\n",
      "word:  <e>\n",
      "previous_n_gram:  ('saw', 'those', 'numbers', 'right')\n",
      "Sentence perplexity: 0.0000\n",
      "\n",
      "Perplexité du corpus de test (bi): 1290.1161\n",
      "Perplexité du corpus de test (tri): 2270.6106\n",
      "Perplexité du corpus de test (quadri): 2832.7368\n"
     ]
    }
   ],
   "source": [
    "# Calculez mainenant la perplexité de votre corpus de test\n",
    "\n",
    "X_test_perplexity_bigram = calculate_perplexity_corpus(X_test, X_train_bigrams, X_train_trigrams, len(X_train_vocabulary), k=1.0)\n",
    "X_test_perplexity_trigram = calculate_perplexity_corpus(X_test, X_train_trigrams, X_train_quadgrams, len(X_train_vocabulary), k=1.0)\n",
    "X_test_perplexity_quadgram = calculate_perplexity_corpus(X_test, X_train_quadgrams, X_train_quintgrams, len(X_train_vocabulary), k=1.0)\n",
    "\n",
    "print()\n",
    "\n",
    "print(f\"Perplexité du corpus de test (bi): {X_test_perplexity_bigram:.4f}\")\n",
    "print(f\"Perplexité du corpus de test (tri): {X_test_perplexity_trigram:.4f}\")\n",
    "print(f\"Perplexité du corpus de test (quadri): {X_test_perplexity_quadgram:.4f}\")"
   ]
  },
  {
   "cell_type": "markdown",
   "id": "354b0972-3a32-476d-8bba-1d78532faaef",
   "metadata": {
    "collapsed": false,
    "id": "FDmVEP8IRf_z"
   },
   "source": [
    "#### 3.3.2. Les perplexités attendues peuvent sembler contre-intuitives.  Comparez-les aux perplexités obtenues sur l'ensemble d'entrainement pour les mêmes modèles. Comment expliquez-vous ces résultats et quelle est votre conclusion ?  (3 points)"
   ]
  },
  {
   "cell_type": "markdown",
   "id": "ac8cf311-9885-4abd-b0b3-be35cc321618",
   "metadata": {
    "collapsed": false,
    "id": "lhsVeFrgRf_z"
   },
   "source": [
    "> *Entrez votre réponse ici*"
   ]
  },
  {
   "cell_type": "markdown",
   "id": "ceb60bf4-1ec6-4882-853e-dddb5f2cd9ee",
   "metadata": {
    "collapsed": false,
    "id": "z46qfzZLRf_z"
   },
   "source": [
    "<a name='4'></a>\n",
    "## 4. Construction d'un modèle d'auto-complétion (15 points)\n",
    "\n",
    "Dans cette dernière partie, vous allez utiliser les modèles n-grammes construits aux numéros précédents afin de faire un modèle d'autocomplétion."
   ]
  },
  {
   "cell_type": "markdown",
   "id": "0139d562-30f8-4b99-a7ee-2d50bcf68cf1",
   "metadata": {
    "collapsed": false,
    "id": "vPp9NZisRf_z"
   },
   "source": [
    "<a name='4.1'></a>\n",
    "### 4.1 Suggestion d'un mot à partir d'un préfixe (5 points)\n",
    "\n",
    "\n",
    "La première étape sera de construire une fonction qui suggère un mot à partir des premiers caractères entrés par un utilisateur, considérant un seul type de n-gramme.  \n",
    "\n",
    "Complétez la fonction `suggest_word` qui calcule les probabilités pour tous les mots suivants possibles et suggère le mot le plus probable. Comme contrainte supplémentaire, le mot suggéré doit commencer avec le préfixe passé en paramètre. Utilisez vos fonctions provenant du numéro 2. (Modèle n-gramme de mots) pour faire vos prédictions.\n",
    "\n",
    "Cette fonction prends en paramètre:\n",
    "- previous_n_gram: le n-gramme précédent, sous forme de tuple\n",
    "- n_gram_counts: Un dictionnaire où la clé est le n-gramme et la valeur est la fréquence de ce n-gramme.\n",
    "- n_plus1_gram_counts: Un autre dictionnaire, que vous utiliserez pour trouver la fréquence du n-gramme précédent plus le mot actuel.\n",
    "- vocabulary_size: la taille du vocabulaire\n",
    "- k: la constante de lissage\n",
    "- prefixe: Le début du mot que l'on veut prédire\n",
    "\n",
    "Elle retourne le mot le plus probable avec la probabilité associée"
   ]
  },
  {
   "cell_type": "code",
   "execution_count": 24,
   "id": "7fbc396b-c090-4a2b-8b0d-2a6d917a405b",
   "metadata": {
    "collapsed": false,
    "id": "wVgc3874Rf_z"
   },
   "outputs": [],
   "source": [
    "\n",
    "def suggest_word(previous_tokens, n_gram_counts, n_plus1_gram_counts, vocabulary, k=1.0, prefixe=\"\"):\n",
    "\n",
    "    n = len(list(n_gram_counts.keys())[0]) # n is the n of the n-gram we use to estimate the probabilities\n",
    "\n",
    "    previous_n_gram = previous_tokens[-n:]\n",
    "    \n",
    "    suggestion = None\n",
    "    max_prob = 0\n",
    "\n",
    "    probabilities = estimate_probabilities(previous_n_gram, n_gram_counts, n_plus1_gram_counts, vocabulary, k=k)\n",
    "    for word, prob in probabilities.items():\n",
    "        if prob > max_prob and word.startswith(prefixe):\n",
    "            max_prob = prob\n",
    "            suggestion = word\n",
    "\n",
    "    return suggestion, max_prob"
   ]
  },
  {
   "cell_type": "code",
   "execution_count": 46,
   "id": "9710de89-2560-4117-9233-25c50911ffef",
   "metadata": {
    "collapsed": false,
    "id": "A5Wm5gEVRf_z",
    "outputId": "e9adf014-1328-44c1-b294-670611a93c31"
   },
   "outputs": [
    {
     "name": "stdout",
     "output_type": "stream",
     "text": [
      "avec les mots précédents 'i have',\n",
      "\t le mot suggéré est `a` avec la probabilité 0.2222\n",
      "\n",
      "avec les mots précédents 'i have', et une suggestion qui commence par `m`\n",
      "\t le mot suggéré est : `mouse` avec une probabilité de 0.1111\n"
     ]
    }
   ],
   "source": [
    "# test\n",
    "sentences = [['i', 'have', 'a', 'mouse'],\n",
    "             ['this', 'mouse', 'likes', 'cats']]\n",
    "unique_words = build_voc(sentences, threshold=0) # Build the vocabulary with the build_voc function that also adds the <e> token\n",
    "\n",
    "unigram_counts = count_n_grams(sentences, 1)\n",
    "bigram_counts = count_n_grams(sentences, 2)\n",
    "\n",
    "previous_tokens = [\"i\", \"have\"]\n",
    "tmp_suggest1 = suggest_word(previous_tokens, unigram_counts, bigram_counts, unique_words, k=1.0)\n",
    "print(f\"avec les mots précédents 'i have',\\n\\t le mot suggéré est `{tmp_suggest1[0]}` avec la probabilité {tmp_suggest1[1]:.4f}\")\n",
    "\n",
    "print()\n",
    "\n",
    "\n",
    "tmp_starts_with = 'm'\n",
    "tmp_suggest2 = suggest_word(previous_tokens, unigram_counts, bigram_counts, unique_words, k=1.0, prefixe=tmp_starts_with)\n",
    "print(f\"avec les mots précédents 'i have', et une suggestion qui commence par `{tmp_starts_with}`\\n\\t le mot suggéré est : `{tmp_suggest2[0]}` avec une probabilité de {tmp_suggest2[1]:.4f}\")"
   ]
  },
  {
   "cell_type": "markdown",
   "id": "e3ddd184-741b-44e9-824d-580ce07a0f3c",
   "metadata": {
    "collapsed": false,
    "id": "7PWnhkaMRf_z"
   },
   "source": [
    "### Sortie attendue\n",
    "\n",
    "```CPP\n",
    "avec les mots précédents 'i have',\n",
    "\t le mot suggéré est `a` avec la probabilité 0.2222\n",
    "\n",
    "avec les mots précédents 'i have', et une suggestion qui commence par `m`\n",
    "\t le mot suggéré est : `mouse` avec une probabilité de 0.1111\n",
    "\n",
    "\n",
    "```"
   ]
  },
  {
   "cell_type": "markdown",
   "id": "f393b1ed-8944-48f1-9b0e-6d95118491a7",
   "metadata": {
    "collapsed": false,
    "id": "BGs12YbSRf_z"
   },
   "source": [
    "<a name='4.2'></a>\n",
    "### 4.2 Suggestions multiples (5 points)\n",
    "\n",
    "Afin de suggérer plusieurs mots à l'utilisateur, une stratégie que l'on peut utiliser est de retourner un ensemble de mots suggérés par plusieurs types de modèles n-grammes.\n",
    "\n",
    "En utilisant la fonction `suggest_word` du numéro précédent, complétez la fonction `get_suggestions` qui retourne les suggestions des modèles n-grammes passés en paramètre. Vous devrez aussi enlever les doublons dans les suggestions s'il y en a, et ordonner la liste des suggestions en commençant par le mot ayant la probabilité la plus élevée.\n",
    "\n",
    "La fonction get_suggestions prends en paramètres:\n",
    "- previous_n_gram: le n-gramme précédent, sous forme de tuple\n",
    "- n_gram_counts_list: une liste de n-grammes dans l'ordre suivant [unigrammes, bigrammes, trigrammes, quadrigrammes, ...]\n",
    "- vocabulary_size: la taille du vocabulaire\n",
    "- k: la constante de lissage (entre 0 et 1)\n",
    "- prefixe: Le début du mot que l'on veut prédire, \"\" si au aucun préfixe"
   ]
  },
  {
   "cell_type": "code",
   "execution_count": 26,
   "id": "95bcb410-08a8-4ba9-a12b-479ce7e62092",
   "metadata": {
    "collapsed": false,
    "id": "PzRJvpkVRf_z"
   },
   "outputs": [],
   "source": [
    "def get_suggestions(previous_tokens, n_gram_counts_list, vocabulary, k=1.0, prefixe=\"\"):\n",
    "\n",
    "    model_counts = len(n_gram_counts_list)\n",
    "\n",
    "    suggestions = set()\n",
    "    for i in range(model_counts - 1):\n",
    "        n_gram_counts = n_gram_counts_list[i]\n",
    "        n_plus1_gram_counts = n_gram_counts_list[i+1]\n",
    "\n",
    "        n = len(list(n_gram_counts.keys())[0]) # n is the n of the n-gram we use to estimate the probabilities\n",
    "\n",
    "        if len(previous_tokens) >= n: # Only evalute n-grams that don't exceed the length of the sentence. MWe are look at n-grams that come after the previous tokens.\n",
    "            suggestion = suggest_word(previous_tokens, n_gram_counts, n_plus1_gram_counts, vocabulary, k=k, prefixe=prefixe)\n",
    "            suggestions.add(suggestion)\n",
    "\n",
    "    # Sort suggestions\n",
    "    suggestions = sorted(suggestions, key=lambda x: x[1], reverse=True)\n",
    "\n",
    "    # Return only the words\n",
    "    suggestions = [tup[0] for tup in suggestions]\n",
    "\n",
    "    # keep only unique values\n",
    "    suggestions = list(set(suggestions))\n",
    "\n",
    "    return suggestions"
   ]
  },
  {
   "cell_type": "code",
   "execution_count": 27,
   "id": "43ac63ca-121e-4359-a8dc-49347232e921",
   "metadata": {
    "collapsed": false,
    "id": "BrBQhVp2Rf_0",
    "outputId": "70c35058-dfd8-4423-88b7-e48cff99339d"
   },
   "outputs": [
    {
     "name": "stdout",
     "output_type": "stream",
     "text": [
      "Etant donné les mots i have, je suggère :\n"
     ]
    },
    {
     "data": {
      "text/plain": [
       "['a']"
      ]
     },
     "metadata": {},
     "output_type": "display_data"
    }
   ],
   "source": [
    "# test\n",
    "sentences = [['i', 'have', 'a', 'mouse'],\n",
    "             ['this', 'mouse', 'likes', 'cats']]\n",
    "unique_words = list(set(sentences[0] + sentences[1]))\n",
    "\n",
    "unigram_counts = count_n_grams(sentences, 1)\n",
    "bigram_counts = count_n_grams(sentences, 2)\n",
    "trigram_counts = count_n_grams(sentences, 3)\n",
    "quadgram_counts = count_n_grams(sentences, 4)\n",
    "qintgram_counts = count_n_grams(sentences, 5)\n",
    "\n",
    "n_gram_counts_list = [unigram_counts, bigram_counts, trigram_counts, quadgram_counts, qintgram_counts]\n",
    "previous_tokens = [\"i\", \"have\"]\n",
    "tmp_suggest3 = get_suggestions(previous_tokens, n_gram_counts_list, unique_words, k=1.0)\n",
    "\n",
    "print(f\"Etant donné les mots i have, je suggère :\")\n",
    "display(tmp_suggest3)"
   ]
  },
  {
   "cell_type": "markdown",
   "id": "3a3c4c68-6c2e-4622-83c9-7b5ddd023a12",
   "metadata": {
    "collapsed": false,
    "id": "VLjhVnJ0Rf_0"
   },
   "source": [
    "##### Sortie attendue\n",
    "\n",
    "```CPP\n",
    "Etant donné les mots i have, je suggère :\n",
    "['a']\n",
    "```"
   ]
  },
  {
   "cell_type": "markdown",
   "id": "8c86c0d2-d194-491a-b20f-2eb676f55522",
   "metadata": {
    "collapsed": false,
    "id": "5Ne2XeIeRf_0"
   },
   "source": [
    "<a name='4.3'></a>\n",
    "### 4.3 Autocomplétion (5 points)\n",
    "\n",
    "Il est maintenant temps de combiner vos fonctions afin de créer le modèle d'autocomplétion. En utilisant le jeu de données d'entraînement, calculez la fréquence des n-grammes allant de 1 à 5 et utilisez la fonction *get_suggestions* afin de suggérer des mots. Vous devrez être en mesure de toujours suggérer des mots à partir du dernier mot entré par l'utilisateur.\n",
    "\n",
    "Complétez la fonction *update_suggestions*:\n",
    "- la variable texte_actuel contient tout le texte entré par l'utilisateur\n",
    "- la variable top_suggestions contient les suggestions qui seront proposées\n",
    "\n",
    "Vous devrez changer le contenu de la variable top_suggestions pour qu'elle contienne les suggestions des n-grammes."
   ]
  },
  {
   "cell_type": "code",
   "execution_count": 28,
   "id": "28f8a814-dc9e-4ca7-9de4-ac9ec9f9511d",
   "metadata": {
    "collapsed": false,
    "id": "SbjsHmhnRf_0"
   },
   "outputs": [],
   "source": [
    "X_train_n_gram_counts_list = [X_train_unigrams, X_train_bigrams, X_train_trigrams, X_train_quadgrams, X_train_quintgrams]"
   ]
  },
  {
   "cell_type": "code",
   "execution_count": 29,
   "id": "d4d1ca71-d996-429e-bbb0-d4953c48c338",
   "metadata": {
    "colab": {
     "referenced_widgets": [
      "cc4598dd67004ff9bdecc58db4499a1b",
      "4d2773b090254c4a8599abd14264f1d9"
     ]
    },
    "collapsed": false,
    "id": "lDJwHOgfRf_0",
    "outputId": "7d024a5b-eae8-4fd0-f6cd-28532956f8fe"
   },
   "outputs": [
    {
     "data": {
      "application/vnd.jupyter.widget-view+json": {
       "model_id": "f17dce0efd3649da9a6e85e1a1f60d5e",
       "version_major": 2,
       "version_minor": 0
      },
      "text/plain": [
       "Text(value='', placeholder='Entrez votre text ici...')"
      ]
     },
     "metadata": {},
     "output_type": "display_data"
    },
    {
     "data": {
      "application/vnd.jupyter.widget-view+json": {
       "model_id": "6da5202c75f94aa0b58411d079de74b3",
       "version_major": 2,
       "version_minor": 0
      },
      "text/plain": [
       "Label(value='Suggestions: ')"
      ]
     },
     "metadata": {},
     "output_type": "display_data"
    }
   ],
   "source": [
    "import ipywidgets as widgets\n",
    "from IPython.display import display\n",
    "\n",
    "\n",
    "text_input = widgets.Text(placeholder=\"Entrez votre text ici...\")\n",
    "\n",
    "suggestions_label = widgets.Label(value=\"Suggestions: \")\n",
    "\n",
    "def update_suggestions(change):\n",
    "    texte_actuel = change[\"new\"]\n",
    "\n",
    "    if texte_actuel != \"\":\n",
    "        # Tokenize the text\n",
    "        text_data = preprocess(texte_actuel)\n",
    "\n",
    "        # Replace out-of-vocabulary words\n",
    "        tokenized_text = replace_oov(text_data, X_train_vocabulary)\n",
    "\n",
    "        # Get suggestions\n",
    "        top_suggestions = get_suggestions(tokenized_text[0], X_train_n_gram_counts_list, X_train_vocabulary, k=1.0, prefixe=\"\")\n",
    "\n",
    "        suggestions_label.value = \"Suggestions: \" + \", \".join(top_suggestions)\n",
    "\n",
    "text_input.observe(update_suggestions, names=\"value\")\n",
    "\n",
    "display(text_input)\n",
    "display(suggestions_label)"
   ]
  },
  {
   "cell_type": "code",
   "execution_count": 29,
   "id": "36ea0f37-dff8-47da-93be-32dbe8d9b766",
   "metadata": {
    "collapsed": false
   },
   "outputs": [],
   "source": []
  },
  {
   "cell_type": "markdown",
   "id": "17308798-f0a3-471b-994a-b21dbad60b54",
   "metadata": {
    "collapsed": false,
    "id": "cBDpuZc5Rf_0"
   },
   "source": [
    "<a name='5'></a>\n",
    "## 5. Modèle de génération de phrases (30 points)\n",
    "\n",
    "Dans cette partie vous allez construire un modèle de génération de phrases en utilisant les n-grammes.\n"
   ]
  },
  {
   "cell_type": "markdown",
   "id": "cb1ae46b-788c-4f55-9037-24f51b315e2b",
   "metadata": {
    "collapsed": false,
    "id": "67xJK9rWRf_0"
   },
   "source": [
    "#### Dans la cadre d'un modèle de génération de phrases, indiquez pourquoi la stratégie de suggestion des mots en 4. ne peut pas fonctionner ? (3 points)"
   ]
  },
  {
   "cell_type": "markdown",
   "id": "75bfd259-9c0a-4d6e-ade8-9a7cb734b65f",
   "metadata": {
    "collapsed": false,
    "id": "Wrud_s4wRf_0"
   },
   "source": [
    ">*Entrez votre réponse ici*"
   ]
  },
  {
   "cell_type": "markdown",
   "id": "241b3e99-4cf0-4fa0-bf36-5b432839dd53",
   "metadata": {
    "collapsed": false,
    "id": "hBRTAM8BRf_0"
   },
   "source": [
    "<a name='5.1'></a>\n",
    "\n",
    "### 5.1 Génération stochastique de mots (5 points)\n",
    "\n",
    "Recodez la fonction suggest_word afin d'utiliser une suggestion stochastique. Autrement dit, au lieu de retourner le mot le plus probable, vous devrez générez le mot suivant selon sa probabilité.\n",
    "\n",
    "Par exemple si le mot 'like' a la probabilité 0.25 d'être généré, alors il sera retourné 25% du temps.\n"
   ]
  },
  {
   "cell_type": "code",
   "execution_count": 30,
   "id": "96d2f878-84f7-4138-bf6a-0ab077d7f08f",
   "metadata": {
    "collapsed": false,
    "id": "rmgGGnjqRf_0"
   },
   "outputs": [],
   "source": [
    "import random\n",
    "def suggest_word_with_probs(previous_tokens, n_gram_counts, n_plus1_gram_counts, vocabulary, k=1.0):\n",
    "\n",
    "    n = len(list(n_gram_counts.keys())[0]) # n is the n of the n-gram we use to estimate the probabilities\n",
    "    previous_n_gram = previous_tokens[-n:]\n",
    "    \n",
    "    estimated_probabilities = estimate_probabilities(previous_n_gram, n_gram_counts, n_plus1_gram_counts, vocabulary, k=k)\n",
    "    probabilities = [prob for _, prob in estimated_probabilities.items()]\n",
    "    words = [word for word, _ in estimated_probabilities.items()]\n",
    "\n",
    "    suggestion = random.choices(words, probabilities)[0]\n",
    "    return suggestion, estimated_probabilities[suggestion]\n"
   ]
  },
  {
   "cell_type": "markdown",
   "id": "90b1e382-14ad-476e-851f-170d462e253a",
   "metadata": {
    "collapsed": false,
    "id": "IhcabjB9Rf_0"
   },
   "source": [
    "<a name='5.2'></a>\n",
    "### 5.2 Générations de phrases (10 points)\n",
    "\n",
    "#### 5.2.1. Génération stochastique (4 points)\n",
    "Complétez maintenant la fonction `generate_sentence` qui génère une phrase longue de n_words en appelant votre nouvelle fonction `suggest_words_with_probs`. La génération doit s'arrêter si le modèle génère un jeton de fin de phrase.\n",
    "\n",
    "Il ne faut pas oublier d'initialiser les phrases à générer avec le bon nombre de jetons de début de phrase (`<s>`). Par exemple, s'il s'agit d'un modèle bigramme, il faudra initialiser la phrase à [`<s>`]. S'il s'agit d'un modèle trigramme, il faudra initialiser la phrase à [`<s>`, `<s>`]. Vous pouvez trouver la taille du contexte à l'aide de l'expression suivante `len(next(iter(n_gram_counts)))`.\n",
    "\n",
    "Ensuite, il faudra passer à la fonction `suggest_word` les `n` derniers mots générés où `n` correspond à la taille du contexte.\n",
    "Finalement, il faudra arrêter la génération si le jeton généré est le jeton de fin (`<e>`)"
   ]
  },
  {
   "cell_type": "code",
   "execution_count": 47,
   "id": "c8ad9a7a-8eb9-444a-adc0-de941d55e5df",
   "metadata": {
    "collapsed": false,
    "id": "JE25q-yORf_0"
   },
   "outputs": [],
   "source": [
    "def generate_sentence(n_words, n_gram_counts, n_plus1_gram_counts, vocabulary, k=0.0001):\n",
    "    n = len(next(iter(n_gram_counts)))\n",
    "    \n",
    "    sentence = ['<s>'] * n\n",
    "    \n",
    "    for _ in range(n_words):\n",
    "        previous_tokens = sentence[-n:]\n",
    "        \n",
    "        next_word, _ = suggest_word_with_probs(previous_tokens, n_gram_counts, n_plus1_gram_counts, vocabulary, k=k)\n",
    "\n",
    "        if next_word == '<e>':\n",
    "            break\n",
    "            \n",
    "        sentence.append(next_word)\n",
    "        \n",
    "    for _ in range(n_words):\n",
    "        next_word, _ = suggest_word(sentence, n_gram_counts, n_plus1_gram_counts, vocabulary, k=k)\n",
    "\n",
    "        if next_word == '<e>':\n",
    "            break\n",
    "\n",
    "        sentence.append(next_word)\n",
    "\n",
    "\n",
    "        \n",
    "    return sentence[n:]\n"
   ]
  },
  {
   "cell_type": "markdown",
   "id": "fbcf2ee0-41a9-45bf-b863-7f8237b8da19",
   "metadata": {
    "collapsed": false,
    "id": "V4iY2tfPRf_0"
   },
   "source": [
    "#### 5.2.2. Test sur des n-grammes (2 points)\n",
    "Testez ensuite votre fonction avec des trigrammes et des 5-grammes."
   ]
  },
  {
   "cell_type": "code",
   "execution_count": 74,
   "id": "05df6c0b-e328-4a5d-a4c8-4cf952707923",
   "metadata": {
    "collapsed": false,
    "id": "XBOApJfPRf_0"
   },
   "outputs": [
    {
     "name": "stdout",
     "output_type": "stream",
     "text": [
      "Phrase générée pour le trigramme: ['we', \"'ll\", 'have', 'four', 'more', 'years', 'of', 'obama']\n"
     ]
    }
   ],
   "source": [
    "trigram_sentence = generate_sentence(5, X_train_trigrams, X_train_quadgrams, X_train_vocabulary, k=0)\n",
    "print(f\"Phrase générée pour le trigramme: {trigram_sentence}\")"
   ]
  },
  {
   "cell_type": "code",
   "execution_count": 78,
   "id": "a4054cca-4895-4c20-9676-47a0323cda4f",
   "metadata": {
    "collapsed": false,
    "id": "gK90j9bMRf_1"
   },
   "outputs": [
    {
     "name": "stdout",
     "output_type": "stream",
     "text": [
      "Phrase générée pour le quintgramme: ['let', \"'s\", 'turn', 'it', 'around', 'and', 'let', \"'s\", 'deport', 'them']\n"
     ]
    }
   ],
   "source": [
    "quintgram_sentence = generate_sentence(5, X_train_quintgrams, X_train_sixtgrams, X_train_vocabulary, k=0)\n",
    "print(f\"Phrase générée pour le quintgramme: {quintgram_sentence}\")"
   ]
  },
  {
   "cell_type": "markdown",
   "id": "114601ff-fc96-4af0-bcfd-373bd1269e79",
   "metadata": {
    "collapsed": false,
    "id": "EvAcYTmQRf_1"
   },
   "source": [
    "#### 5.2.3. Avec k=1.0, que se passe-t-il avec les phrases générées et quelle en est la raison principale ? Que pouvez-vous faire pour améliorer la situation? (2 points)"
   ]
  },
  {
   "cell_type": "markdown",
   "id": "893a6968-83c2-48a3-b2f8-9d75bae6e811",
   "metadata": {
    "collapsed": false,
    "id": "q3-4l6fhRf_1"
   },
   "source": [
    ">Lorsque k=1.0 les phrase genere font moins de sens, car le modele prends les mots ayant la probabilite la plus hautes d'apparaitre sans donner suffisamment de poids au contexte.\n",
    "Nous pouvons diminuer la valeur de k."
   ]
  },
  {
   "cell_type": "markdown",
   "id": "c0293488-c179-4e02-a2f2-a69355ff96af",
   "metadata": {
    "collapsed": false,
    "id": "U0ekqrVURf_1"
   },
   "source": [
    "#### 5.2.4.  Quels sont les problèmes si la constante k a une valeur trop petite, voir 0?  (2 points)"
   ]
  },
  {
   "cell_type": "markdown",
   "id": "bc4835c4-40d9-4d77-9d5f-0d169580b53d",
   "metadata": {
    "collapsed": false,
    "id": "l8Wjlm83Rf_1"
   },
   "source": [
    ">Lorsque k est trop petit nous avons un probleme d'overfitting. Le modele apprend par coeur le texte et n'a pas une bonne generalisation.\n"
   ]
  },
  {
   "cell_type": "markdown",
   "id": "70a0f41b-c37c-4d72-9fc2-1ddde95761f0",
   "metadata": {
    "collapsed": false,
    "id": "7fxWS1OPRf_1"
   },
   "source": [
    "<a name='5.3'></a>\n",
    "### 5.3. Amélioration de la génération stochastique de mots (12 points)\n",
    "\n",
    "#### 5.3.1. Amélioration stochastique\n",
    "\n",
    "Comme vous avez pu l'observer, la génération stochastique, bien qu'elle soit efficace pour générer des phrases différentes, a tendance à ne pas générer des phrases toujours cohérentes. Proposez une amélioration de la méthode `suggest_word` que vous implémenterez dans la méthode `suggest_word_new` permettant de générer des phrases plus cohérentes.\n",
    "\n",
    "##### a) Décrivez votre méthode dans la cellule suivante (3 points)"
   ]
  },
  {
   "cell_type": "markdown",
   "id": "449eecaf-2e02-41cb-87a5-1bbb36b8b8a8",
   "metadata": {
    "collapsed": false,
    "id": "DAD2VNybRf_1"
   },
   "source": [
    ">*Entrez votre réponse ici*"
   ]
  },
  {
   "cell_type": "markdown",
   "id": "bf5a0d90-1e9b-4902-90ca-4a2dee7c7cc8",
   "metadata": {
    "collapsed": false,
    "id": "XCehUJU3Rf_1"
   },
   "source": [
    "##### b) Implémentez la méthode proposée (5 points)"
   ]
  },
  {
   "cell_type": "code",
   "execution_count": 31,
   "id": "20155fef-23e7-4fcf-b530-315c4596fe29",
   "metadata": {
    "collapsed": false,
    "id": "iTnupro6Rf_1"
   },
   "outputs": [],
   "source": [
    "\n",
    "def suggest_word_new(previous_tokens, n_gram_counts, n_plus1_gram_counts, vocabulary, k=1.0):\n",
    "\n",
    "    return None"
   ]
  },
  {
   "cell_type": "markdown",
   "id": "f32b56e4-1a9b-4d99-af06-b4c8af745b4d",
   "metadata": {
    "collapsed": false,
    "id": "bESshtAqRf_1"
   },
   "source": [
    "#### 5.3.2. Génération améliorée (2 points)\n",
    "Recodez maintenant la fonction `generate_sentence_new` pour appeler votre nouvelle méthode `suggest_word_new`."
   ]
  },
  {
   "cell_type": "code",
   "execution_count": 32,
   "id": "3b97f1eb-265b-4923-a1fd-f66d3ab747d2",
   "metadata": {
    "collapsed": false,
    "id": "eSmfUVq5Rf_1"
   },
   "outputs": [],
   "source": [
    "def generate_sentence_new(n_words, n_gram_counts, n_plus1_gram_counts, vocabulary, k=0.001):\n",
    "\n",
    "    return None\n"
   ]
  },
  {
   "cell_type": "markdown",
   "id": "33931e6e-d9fc-4372-9c89-2f21e0aff48f",
   "metadata": {
    "collapsed": false,
    "id": "yetI7zQoRf_1"
   },
   "source": [
    "#### 5.3.3. Test sur des n-grammes (2 points)\n",
    "Testez ensuite votre fonction avec des 3-grammes et des 5-grammes et validez que les phrases sont plus cohérentes."
   ]
  },
  {
   "cell_type": "code",
   "execution_count": null,
   "id": "e5db9592-42b3-4766-b6b5-5a9984821764",
   "metadata": {
    "collapsed": false,
    "id": "LAN99kklRf_1"
   },
   "outputs": [],
   "source": []
  },
  {
   "cell_type": "code",
   "execution_count": null,
   "id": "412ca50b-f609-49d9-8ccc-4c577fe4bfb2",
   "metadata": {
    "collapsed": false,
    "id": "shrPSXK3Rf_1"
   },
   "outputs": [],
   "source": []
  },
  {
   "cell_type": "markdown",
   "id": "8589bc2c-5efa-4fd5-a848-8293938b691b",
   "metadata": {
    "collapsed": false,
    "id": "ZJbObCILRf_1"
   },
   "source": [
    "## LIVRABLES:\n",
    "Vous devez remettre sur Moodle, avant la date d'échéance, un zip contenant les fichiers suivants :\n",
    "\n",
    "1-\tLe code : Vous devez compléter le squelette inf8460_tp2.ipynb sous le nom   equipe_i_inf8460_TP2.ipynb (i = votre numéro d’équipe). Indiquez vos noms et matricules au début du notebook. Ce notebook doit contenir les fonctionnalités requises avec des commentaires appropriés. Le code doit être exécutable sans erreur et accompagné de commentaires appropriés de manière à expliquer les différentes fonctions. Les critères de qualité tels que la lisibilité du code et des commentaires sont importants. Tout votre code et vos résultats doivent être exécutables et reproductibles ;\n",
    "\n",
    "2-\tUn fichier pdf représentant votre notebook complètement exécuté sous format pdf.\n",
    "Pour créer le fichier cliquez sur File > Download as > PDF via LaTeX (.pdf). Assurez-vous que le PDF est entièrement lisible.\n",
    "\n",
    "\n",
    "## EVALUATION\n",
    "Votre TP sera évalué selon les critères suivants :\n",
    "\n",
    "1. Exécution correcte du code\n",
    "2. Qualité du code (noms significatifs, structure, gestion d’exception, etc.) avec, entre autres, les recommandations suivantes:\n",
    "    - Il ne devrait pas y avoir de duplication de code. Utilisez des fonctions pour garder votre code modulaire\n",
    "    - Votre code devrait être optimisé: un code trop lent entraînera une perte de points\n",
    "3. Lisibilité du code (Commentaires clairs et informatifs au besoin)\n",
    "4. Performance/sortie attendue des modèles\n",
    "5. Réponses correctes/sensées aux questions de réflexion ou d'analyse\n"
   ]
  }
 ],
 "metadata": {
  "colab": {
   "include_colab_link": true,
   "provenance": []
  },
  "coursera": {
   "schema_names": [
    "NLPC2-3"
   ]
  },
  "kernelspec": {
   "argv": [
    "/home/bndo/anaconda3/bin/python",
    "-m",
    "ipykernel_launcher",
    "-f",
    "{connection_file}"
   ],
   "display_name": "Python 3 (ipykernel)",
   "env": null,
   "interrupt_mode": "signal",
   "language": "python",
   "metadata": {
    "debugger": true
   },
   "name": "python3"
  },
  "language_info": {
   "codemirror_mode": {
    "name": "ipython",
    "version": 3
   },
   "file_extension": ".py",
   "mimetype": "text/x-python",
   "name": "python",
   "nbconvert_exporter": "python",
   "pygments_lexer": "ipython3",
   "version": "3.10.9"
  },
  "name": "TP2_inf8460_A23_Brando.ipynb"
 },
 "nbformat": 4,
 "nbformat_minor": 0
}
